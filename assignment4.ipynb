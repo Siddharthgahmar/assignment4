{
 "cells": [
  {
   "cell_type": "markdown",
   "id": "ba8ea1df-f5df-4691-9c2d-aa2b77bd3483",
   "metadata": {},
   "source": [
    "Q1-Create a python program to sort the given list of tuples based on integer value using a lambda function.\n",
    "[('Sachin Tendulkar',34357),('Rinky Ponting',27483),('Jack Kallis',25534),('Virat Kohli',24936)"
   ]
  },
  {
   "cell_type": "code",
   "execution_count": 1,
   "id": "d1e2c389-056a-443a-b3a5-eb500f488d5d",
   "metadata": {},
   "outputs": [
    {
     "name": "stdout",
     "output_type": "stream",
     "text": [
      "[('Virat Kohli', 24936), ('Jack Kallis', 25534), ('Rinky Ponting', 27483), ('Sachin Tendulkar', 34357)]\n"
     ]
    }
   ],
   "source": [
    "list_of_tuples = [('Sachin Tendulkar',34357),('Rinky Ponting',27483),('Jack Kallis',25534),('Virat Kohli',24936)]\n",
    "\n",
    "# Sort the list of tuples based on the second element using a lambda function.\n",
    "sorted_list_of_tuples = sorted(list_of_tuples, key=lambda x: x[1])\n",
    "\n",
    "print(sorted_list_of_tuples)\n"
   ]
  },
  {
   "cell_type": "markdown",
   "id": "76b70109-451f-4cb7-878c-b5685ff2a931",
   "metadata": {},
   "source": [
    "Q2-Write a Python program to find the squares of all the numbers in list of integer using lambda and map functions.\n",
    "[1,2,3,4,5,6,7,8,9,10]"
   ]
  },
  {
   "cell_type": "code",
   "execution_count": 3,
   "id": "de08ac47-760e-4df3-b7dd-63b269a43972",
   "metadata": {},
   "outputs": [
    {
     "data": {
      "text/plain": [
       "[1, 4, 9, 16, 25, 36, 49, 64, 81, 100]"
      ]
     },
     "execution_count": 3,
     "metadata": {},
     "output_type": "execute_result"
    }
   ],
   "source": [
    "l=[1,2,3,4,5,6,7,8,9,10]\n",
    "list(map(lambda x: x**2, l))"
   ]
  },
  {
   "cell_type": "raw",
   "id": "14de4ab1-5643-449f-9952-6bdd39efa1cc",
   "metadata": {},
   "source": [
    "Q3-Write a python program to convert the list  of integer into a tuple of string. Use map and lambda functions.\n",
    "Given String:[1,2,3,4,5,6,7,8,9,10]\n",
    "Expected output : ('1','2','3','4','5'.'6'.'7','8','9','10')"
   ]
  },
  {
   "cell_type": "code",
   "execution_count": 6,
   "id": "a910f83f-6520-42ff-9551-a74f9469ba68",
   "metadata": {},
   "outputs": [
    {
     "name": "stdout",
     "output_type": "stream",
     "text": [
      "('1', '2', '3', '4', '5', '6', '7', '8', '9', '10')\n"
     ]
    }
   ],
   "source": [
    "l=[1,2,3,4,5,6,7,8,9,10]\n",
    "t=tuple(map(lambda x : str(x),l))\n",
    "print(t)"
   ]
  },
  {
   "cell_type": "markdown",
   "id": "5cddd703-bb6d-4843-9e89-9c6c2eedf57e",
   "metadata": {},
   "source": [
    "Q4-Write a python program using reduce function to compute the product of a list containing numbers from 1 to 25"
   ]
  },
  {
   "cell_type": "code",
   "execution_count": 8,
   "id": "778a7224-d597-4054-b11a-d653a01f1a81",
   "metadata": {},
   "outputs": [],
   "source": [
    "l1=list(range(1,26))\n",
    "    "
   ]
  },
  {
   "cell_type": "code",
   "execution_count": 10,
   "id": "81a4a5a5-3857-48fa-b1c3-0789a557c03b",
   "metadata": {},
   "outputs": [],
   "source": [
    "from functools import reduce"
   ]
  },
  {
   "cell_type": "code",
   "execution_count": 11,
   "id": "559e2c51-11ab-4c46-be54-daa53bf647c7",
   "metadata": {},
   "outputs": [
    {
     "data": {
      "text/plain": [
       "15511210043330985984000000"
      ]
     },
     "execution_count": 11,
     "metadata": {},
     "output_type": "execute_result"
    }
   ],
   "source": [
    "reduce(lambda x,y : x*y, l1)"
   ]
  },
  {
   "cell_type": "markdown",
   "id": "7e15a3b4-4453-43b4-bd30-acf6d2d30654",
   "metadata": {},
   "source": [
    "Q5-Write a python program to filter the numbers in a given list that are divisible by 2 and 3 using the filter function.\n",
    "[2,3,6,9,27,60,90,120,55,46]"
   ]
  },
  {
   "cell_type": "code",
   "execution_count": 15,
   "id": "8d6ba537-674d-4d33-a054-9602d3c048f8",
   "metadata": {},
   "outputs": [
    {
     "name": "stdout",
     "output_type": "stream",
     "text": [
      "[6, 60, 90, 120]\n"
     ]
    }
   ],
   "source": [
    "list_of_numbers = [2,3,6,9,27,60,90,120,55,46]\n",
    "\n",
    "# Use the filter function to filter the list of numbers that are divisible by 2 and 3.\n",
    "filtered_list_of_numbers = list(filter(lambda x: x % 2 == 0 and x % 3 == 0, list_of_numbers))\n",
    "print(filtered_list_of_numbers)\n"
   ]
  },
  {
   "cell_type": "code",
   "execution_count": 16,
   "id": "8934e49e-4f0b-4faa-b80e-ad1d126321b1",
   "metadata": {},
   "outputs": [
    {
     "ename": "SyntaxError",
     "evalue": "invalid syntax (1409304945.py, line 1)",
     "output_type": "error",
     "traceback": [
      "\u001b[0;36m  Cell \u001b[0;32mIn[16], line 1\u001b[0;36m\u001b[0m\n\u001b[0;31m    Q6-Write a python program to find palindromes in the given list of string using lambda and filter function.\u001b[0m\n\u001b[0m             ^\u001b[0m\n\u001b[0;31mSyntaxError\u001b[0m\u001b[0;31m:\u001b[0m invalid syntax\n"
     ]
    }
   ],
   "source": [
    "Q6-Write a python program to find palindromes in the given list of string using lambda and filter function.\n",
    "['python','php','aba','radar','level']"
   ]
  },
  {
   "cell_type": "code",
   "execution_count": null,
   "id": "89eec2cd-640a-47d3-a0da-3b984a78901e",
   "metadata": {},
   "outputs": [],
   "source": []
  }
 ],
 "metadata": {
  "kernelspec": {
   "display_name": "Python 3 (ipykernel)",
   "language": "python",
   "name": "python3"
  },
  "language_info": {
   "codemirror_mode": {
    "name": "ipython",
    "version": 3
   },
   "file_extension": ".py",
   "mimetype": "text/x-python",
   "name": "python",
   "nbconvert_exporter": "python",
   "pygments_lexer": "ipython3",
   "version": "3.10.8"
  }
 },
 "nbformat": 4,
 "nbformat_minor": 5
}
